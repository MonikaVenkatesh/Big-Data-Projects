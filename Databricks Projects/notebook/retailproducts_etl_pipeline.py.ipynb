{
 "cells": [
  {
   "cell_type": "code",
   "execution_count": 0,
   "metadata": {
    "application/vnd.databricks.v1+cell": {
     "cellMetadata": {
      "byteLimit": 2048000,
      "rowLimit": 10000
     },
     "inputWidgets": {},
     "nuid": "6088e69f-75ae-4b18-91cc-b6db5505aa31",
     "showTitle": false,
     "tableResultSettingsMap": {},
     "title": ""
    }
   },
   "outputs": [],
   "source": [
    "sales_bronze = spark.table(\"workspace.default.retail_sales_dataset\")\n"
   ]
  },
  {
   "cell_type": "code",
   "execution_count": 0,
   "metadata": {
    "application/vnd.databricks.v1+cell": {
     "cellMetadata": {
      "byteLimit": 2048000,
      "rowLimit": 10000
     },
     "inputWidgets": {},
     "nuid": "1251e0f0-36a2-4b66-9bf7-533126944180",
     "showTitle": false,
     "tableResultSettingsMap": {},
     "title": ""
    }
   },
   "outputs": [
    {
     "output_type": "execute_result",
     "data": {
      "text/plain": [
       "['Transaction_ID',\n",
       " 'Date',\n",
       " 'Customer_ID',\n",
       " 'Gender',\n",
       " 'Age',\n",
       " 'Product_Category',\n",
       " 'Quantity',\n",
       " 'Price_per_Unit',\n",
       " 'Total_Amount']"
      ]
     },
     "execution_count": 7,
     "metadata": {},
     "output_type": "execute_result"
    }
   ],
   "source": [
    "sales_bronze = sales_bronze.toDF(*[c.replace(\" \", \"_\") for c in sales_bronze.columns])\n",
    "\n",
    "# Check the new columns\n",
    "sales_bronze.columns"
   ]
  },
  {
   "cell_type": "code",
   "execution_count": 0,
   "metadata": {
    "application/vnd.databricks.v1+cell": {
     "cellMetadata": {
      "byteLimit": 2048000,
      "rowLimit": 10000
     },
     "inputWidgets": {},
     "nuid": "8580decc-fc6a-4af1-98ca-f80a200523bd",
     "showTitle": false,
     "tableResultSettingsMap": {},
     "title": ""
    }
   },
   "outputs": [
    {
     "output_type": "execute_result",
     "data": {
      "text/plain": [
       "['Transaction ID',\n",
       " 'Date',\n",
       " 'Customer ID',\n",
       " 'Gender',\n",
       " 'Age',\n",
       " 'Product Category',\n",
       " 'Quantity',\n",
       " 'Price per Unit',\n",
       " 'Total Amount']"
      ]
     },
     "execution_count": 5,
     "metadata": {},
     "output_type": "execute_result"
    }
   ],
   "source": [
    "sales_bronze.columns"
   ]
  },
  {
   "cell_type": "code",
   "execution_count": 0,
   "metadata": {
    "application/vnd.databricks.v1+cell": {
     "cellMetadata": {
      "byteLimit": 2048000,
      "rowLimit": 10000
     },
     "inputWidgets": {},
     "nuid": "d9a7112c-256d-48a1-998a-69ed20b9759c",
     "showTitle": false,
     "tableResultSettingsMap": {},
     "title": ""
    }
   },
   "outputs": [
    {
     "output_type": "stream",
     "name": "stdout",
     "output_type": "stream",
     "text": [
      "+--------------+----------+-----------+------+---+----------------+--------+--------------+------------+\n|Transaction_ID|      Date|Customer_ID|Gender|Age|Product_Category|Quantity|Price_per_Unit|Total_Amount|\n+--------------+----------+-----------+------+---+----------------+--------+--------------+------------+\n|           271|2023-06-23|    CUST271|Female| 62|          Beauty|       4|          30.0|       120.0|\n|           372|2023-02-07|    CUST372|Female| 24|          Beauty|       3|         500.0|      1500.0|\n|           722|2023-07-14|    CUST722|  Male| 20|          Beauty|       3|         300.0|       900.0|\n|           212|2023-06-09|    CUST212|  Male| 21|        Clothing|       3|         500.0|      1500.0|\n|           234|2023-11-20|    CUST234|Female| 62|     Electronics|       2|          25.0|        50.0|\n+--------------+----------+-----------+------+---+----------------+--------+--------------+------------+\nonly showing top 5 rows\n"
     ]
    }
   ],
   "source": [
    "from pyspark.sql.functions import col\n",
    "\n",
    "sales_silver = (sales_bronze\n",
    "                .dropDuplicates([\"Transaction_ID\"])  # deduplicate\n",
    "                .withColumn(\"Quantity\", col(\"Quantity\").cast(\"int\"))\n",
    "                .withColumn(\"Price_per_Unit\", col(\"Price_per_Unit\").cast(\"double\"))\n",
    "                .withColumn(\"Total_Amount\", col(\"Total_Amount\").cast(\"double\"))\n",
    "                .withColumn(\"Date\", col(\"Date\").cast(\"date\"))\n",
    "               )\n",
    "\n",
    "# Save Silver table in Unity Catalog\n",
    "sales_silver.write.format(\"delta\").mode(\"overwrite\").saveAsTable(\"workspace.default.retail_sales_silver\")\n",
    "\n",
    "# Preview\n",
    "sales_silver.show(5)"
   ]
  },
  {
   "cell_type": "code",
   "execution_count": 0,
   "metadata": {
    "application/vnd.databricks.v1+cell": {
     "cellMetadata": {
      "byteLimit": 2048000,
      "rowLimit": 10000
     },
     "inputWidgets": {},
     "nuid": "4699aacd-6856-4244-824f-a4221b0fb183",
     "showTitle": false,
     "tableResultSettingsMap": {},
     "title": ""
    }
   },
   "outputs": [],
   "source": [
    "sales_gold = (sales_silver\n",
    "              .groupBy(\"Product_Category\")\n",
    "              .sum(\"Quantity\", \"Total_Amount\")\n",
    "              .withColumnRenamed(\"sum(Quantity)\", \"Total_Quantity\")\n",
    "              .withColumnRenamed(\"sum(Total_Amount)\", \"Total_Sales\")\n",
    "             )\n",
    "\n",
    "# Save Gold table\n",
    "sales_gold.write.format(\"delta\").mode(\"overwrite\").saveAsTable(\"workspace.default.retail_sales_gold\")"
   ]
  },
  {
   "cell_type": "code",
   "execution_count": 0,
   "metadata": {
    "application/vnd.databricks.v1+cell": {
     "cellMetadata": {
      "byteLimit": 2048000,
      "rowLimit": 10000
     },
     "inputWidgets": {},
     "nuid": "aaaeb338-5dfb-4fba-9bb8-17712d194aae",
     "showTitle": false,
     "tableResultSettingsMap": {},
     "title": ""
    }
   },
   "outputs": [
    {
     "output_type": "stream",
     "name": "stdout",
     "output_type": "stream",
     "text": [
      "+----------------+--------------+-----------+\n|Product_Category|Total_Quantity|Total_Sales|\n+----------------+--------------+-----------+\n|        Clothing|           894|   155580.0|\n|          Beauty|           771|   143515.0|\n|     Electronics|           849|   156905.0|\n+----------------+--------------+-----------+\n\n"
     ]
    }
   ],
   "source": [
    "sales_gold.show()"
   ]
  },
  {
   "cell_type": "code",
   "execution_count": 0,
   "metadata": {
    "application/vnd.databricks.v1+cell": {
     "cellMetadata": {
      "byteLimit": 2048000,
      "implicitDf": true,
      "rowLimit": 10000
     },
     "inputWidgets": {},
     "nuid": "df7bacab-d636-4e90-b3d9-f01afbb602ce",
     "showTitle": false,
     "tableResultSettingsMap": {},
     "title": ""
    }
   },
   "outputs": [
    {
     "output_type": "display_data",
     "data": {
      "text/html": [
       "<style scoped>\n",
       "  .table-result-container {\n",
       "    max-height: 300px;\n",
       "    overflow: auto;\n",
       "  }\n",
       "  table, th, td {\n",
       "    border: 1px solid black;\n",
       "    border-collapse: collapse;\n",
       "  }\n",
       "  th, td {\n",
       "    padding: 5px;\n",
       "  }\n",
       "  th {\n",
       "    text-align: left;\n",
       "  }\n",
       "</style><div class='table-result-container'><table class='table-result'><thead style='background-color: white'><tr><th>Product_Category</th><th>Total_Sales</th></tr></thead><tbody><tr><td>Electronics</td><td>156905.0</td></tr><tr><td>Clothing</td><td>155580.0</td></tr><tr><td>Beauty</td><td>143515.0</td></tr></tbody></table></div>"
      ]
     },
     "metadata": {
      "application/vnd.databricks.v1+output": {
       "addedWidgets": {},
       "aggData": [],
       "aggError": "",
       "aggOverflow": false,
       "aggSchema": [],
       "aggSeriesLimitReached": false,
       "aggType": "",
       "arguments": {},
       "columnCustomDisplayInfos": {},
       "data": [
        [
         "Electronics",
         156905.0
        ],
        [
         "Clothing",
         155580.0
        ],
        [
         "Beauty",
         143515.0
        ]
       ],
       "datasetInfos": [
        {
         "name": "_sqldf",
         "schema": {
          "fields": [
           {
            "metadata": {},
            "name": "Product_Category",
            "nullable": true,
            "type": "string"
           },
           {
            "metadata": {},
            "name": "Total_Sales",
            "nullable": true,
            "type": "double"
           }
          ],
          "type": "struct"
         },
         "tableIdentifier": null,
         "typeStr": "pyspark.sql.connect.dataframe.DataFrame"
        }
       ],
       "dbfsResultPath": null,
       "isJsonSchema": true,
       "metadata": {
        "createTempViewForImplicitDf": true,
        "dataframeName": "_sqldf",
        "executionCount": 15
       },
       "overflow": false,
       "plotOptions": {
        "customPlotOptions": {},
        "displayType": "table",
        "pivotAggregation": null,
        "pivotColumns": null,
        "xColumns": null,
        "yColumns": null
       },
       "removedWidgets": [],
       "schema": [
        {
         "metadata": "{}",
         "name": "Product_Category",
         "type": "\"string\""
        },
        {
         "metadata": "{}",
         "name": "Total_Sales",
         "type": "\"double\""
        }
       ],
       "type": "table"
      }
     },
     "output_type": "display_data"
    }
   ],
   "source": [
    "%sql\n",
    "SELECT Product_Category, Total_Sales\n",
    "FROM workspace.default.retail_sales_gold\n",
    "ORDER BY Total_Sales DESC;"
   ]
  }
 ],
 "metadata": {
  "application/vnd.databricks.v1+notebook": {
   "computePreferences": {
    "hardware": {
     "accelerator": null,
     "gpuPoolId": null,
     "memory": null
    }
   },
   "dashboards": [],
   "environmentMetadata": {
    "base_environment": "",
    "environment_version": "3"
   },
   "inputWidgetPreferences": null,
   "language": "python",
   "notebookMetadata": {
    "mostRecentlyExecutedCommandWithImplicitDF": {
     "commandId": 5458352306046103,
     "dataframes": [
      "_sqldf"
     ]
    },
    "pythonIndentUnit": 4
   },
   "notebookName": "retailproducts_etl_pipeline.py",
   "widgets": {}
  },
  "language_info": {
   "name": "python"
  }
 },
 "nbformat": 4,
 "nbformat_minor": 0
}