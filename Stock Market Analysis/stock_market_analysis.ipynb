{
 "cells": [
  {
   "cell_type": "code",
   "execution_count": 0,
   "metadata": {
    "application/vnd.databricks.v1+cell": {
     "cellMetadata": {
      "byteLimit": 2048000,
      "rowLimit": 10000
     },
     "inputWidgets": {},
     "nuid": "e959fce6-21bf-4558-b9df-933f7ad364fb",
     "showTitle": false,
     "tableResultSettingsMap": {},
     "title": ""
    }
   },
   "outputs": [
    {
     "output_type": "stream",
     "name": "stdout",
     "output_type": "stream",
     "text": [
      "Total_rows 40\nroot\n |-- gender: string (nullable = true)\n |-- age: long (nullable = true)\n |-- Investment_Avenues: string (nullable = true)\n |-- Mutual_Funds: long (nullable = true)\n |-- Equity_Market: long (nullable = true)\n |-- Debentures: long (nullable = true)\n |-- Government_Bonds: long (nullable = true)\n |-- Fixed_Deposits: long (nullable = true)\n |-- PPF: long (nullable = true)\n |-- Gold: long (nullable = true)\n |-- Stock_Marktet: string (nullable = true)\n |-- Factor: string (nullable = true)\n |-- Objective: string (nullable = true)\n |-- Purpose: string (nullable = true)\n |-- Duration: string (nullable = true)\n |-- Invest_Monitor: string (nullable = true)\n |-- Expect: string (nullable = true)\n |-- Avenue: string (nullable = true)\n |-- What are your savings objectives?: string (nullable = true)\n |-- Reason_Equity: string (nullable = true)\n |-- Reason_Mutual: string (nullable = true)\n |-- Reason_Bonds: string (nullable = true)\n |-- Reason_FD: string (nullable = true)\n |-- Source: string (nullable = true)\n\nTotal_rows 40\nRows after cleaning: 40\n+------+---+------------------+------------+-------------+----------+----------------+--------------+---+----+-------------+-------+--------------------+---------------+---------+--------------+-------+-----------+---------------------------------+--------------------+--------------+---------------+-------------------+------------------------+-----------+-----------------------+-----------------+------------------+-------------------+------------------+---------------------+-------------------+------------------+---------+----------------------+----------------+\n|gender|age|Investment_Avenues|Mutual_Funds|Equity_Market|Debentures|Government_Bonds|Fixed_Deposits|PPF|Gold|Stock_Marktet|Factor |Objective           |Purpose        |Duration |Invest_Monitor|Expect |Avenue     |What are your savings objectives?|Reason_Equity       |Reason_Mutual |Reason_Bonds   |Reason_FD          |Source                  |GenderGroup|Investment_Avenues_Flag|Stock_Market_Flag|Mutual_Funds_Norm |Equity_Market_Norm |Debentures_Norm   |Government_Bonds_Norm|Fixed_Deposits_Norm|PPF_Norm          |Gold_Norm|Total_Investment_Score|Rank_in_AgeGroup|\n+------+---+------------------+------------+-------------+----------+----------------+--------------+---+----+-------------+-------+--------------------+---------------+---------+--------------+-------+-----------+---------------------------------+--------------------+--------------+---------------+-------------------+------------------------+-----------+-----------------------+-----------------+------------------+-------------------+------------------+---------------------+-------------------+------------------+---------+----------------------+----------------+\n|Female|27 |Yes               |3           |6            |4         |2               |5             |1  |7   |Yes          |Returns|Capital Appreciation|Wealth Creation|3-5 years|Monthly       |20%-30%|Equity     |Retirement Plan                  |Capital Appreciation|Better Returns|Assured Returns|High Interest Rates|Financial Consultants   |Adult      |1                      |1                |0.3333333333333333|0.8333333333333334 |0.5               |0.16666666666666666  |0.6666666666666666 |0.0               |1.0      |28                    |1               |\n|Male  |30 |Yes               |3           |6            |4         |2               |5             |1  |7   |Yes          |Returns|Capital Appreciation|Wealth Creation|3-5 years|Daily         |20%-30%|Equity     |Retirement Plan                  |Capital Appreciation|Tax Benefits  |Assured Returns|Fixed Returns      |Television              |Adult      |1                      |1                |0.3333333333333333|0.8333333333333334 |0.5               |0.16666666666666666  |0.6666666666666666 |0.0               |1.0      |28                    |1               |\n|Female|34 |Yes               |1           |2            |5         |3               |7             |6  |4   |Yes          |Returns|Capital Appreciation|Wealth Creation|1-3 years|Monthly       |20%-30%|Mutual Fund|Retirement Plan                  |Capital Appreciation|Better Returns|Safe Investment|Fixed Returns      |Newspapers and Magazines|Adult      |1                      |1                |0.0               |0.16666666666666666|0.6666666666666666|0.3333333333333333   |1.0                |0.8333333333333334|0.5      |28                    |1               |\n+------+---+------------------+------------+-------------+----------+----------------+--------------+---+----+-------------+-------+--------------------+---------------+---------+--------------+-------+-----------+---------------------------------+--------------------+--------------+---------------+-------------------+------------------------+-----------+-----------------------+-----------------+------------------+-------------------+------------------+---------------------+-------------------+------------------+---------+----------------------+----------------+\nonly showing top 3 rows\n"
     ]
    }
   ],
   "source": [
    "df = spark.table(\"workspace.default.finance_data\")\n",
    "#df.show(5)\n",
    "print(\"Total_rows\", df.count())\n",
    "df.printSchema()\n",
    "print(\"Total_rows\", df.count())\n",
    "df.dropna()\n",
    "df.dropDuplicates()\n",
    "print(\"Rows after cleaning:\", df.count())\n",
    "from pyspark.sql.functions import when \n",
    "df = df.withColumn(\"GenderGroup\", when(df.age<25,\"Young\").when(df.age>=25, \"Adult\").when(df.age>=40, \"middle\").otherwise(\"seniorCitizen\"))\n",
    "#df.show(5)\n",
    "from pyspark.sql.functions import when, col\n",
    "\n",
    "df = df.withColumn(\"Investment_Avenues_Flag\", when(col(\"Investment_Avenues\") == \"Yes\", 1).otherwise(0)) \\\n",
    "       .withColumn(\"Stock_Market_Flag\", when(col(\"Stock_Marktet\") == \"Yes\", 1).otherwise(0))\n",
    "#df.show(5)\n",
    "\n",
    "numeric_cols = [\"Mutual_Funds\",\"Equity_Market\",\"Debentures\",\"Government_Bonds\",\n",
    "                \"Fixed_Deposits\",\"PPF\",\"Gold\"]\n",
    "\n",
    "for c in numeric_cols:\n",
    "    df = df.withColumn(f\"{c}_Norm\", (col(c) - 1) / 6.0)\n",
    "\n",
    "df = df.withColumn(\"Total_Investment_Score\",\n",
    "    col(\"Mutual_Funds\") + col(\"Equity_Market\") + col(\"Debentures\") +\n",
    "    col(\"Government_Bonds\") + col(\"Fixed_Deposits\") + col(\"PPF\") + col(\"Gold\"))\n",
    "\n",
    "df.select(\"age\", \"GenderGroup\", \"Investment_Avenues\", \"Investment_Avenues_Flag\",\n",
    "          \"Mutual_Funds\", \"Mutual_Funds_Norm\", \"Stock_Marktet\", \"Stock_Market_Flag\",\n",
    "          \"Total_Investment_Score\")\n",
    "\n",
    "#df.select(\"age\", \"GenderGroup\", \"Investment_Avenues\", \"Investment_Avenues_Flag\",\n",
    "#          \"Mutual_Funds\", \"Mutual_Funds_Norm\", \"Stock_Marktet\", \"Stock_Market_Flag\",\n",
    " #         \"Total_Investment_Score\").show(5)\n",
    "\n",
    "from pyspark.sql.functions import avg, round\n",
    "\n",
    "# Average normalized investment preferences by Age Group & Gender\n",
    "agg_df = df.groupBy(\"GenderGroup\", \"gender\").agg(\n",
    "    round(avg(\"Mutual_Funds_Norm\"), 2).alias(\"Avg_MutualFunds\"),\n",
    "    round(avg(\"Equity_Market_Norm\"), 2).alias(\"Avg_Equity\"),\n",
    "    round(avg(\"Debentures_Norm\"), 2).alias(\"Avg_Debentures\"),\n",
    "    round(avg(\"Government_Bonds_Norm\"), 2).alias(\"Avg_Bonds\"),\n",
    "    round(avg(\"Fixed_Deposits_Norm\"), 2).alias(\"Avg_FD\"),\n",
    "    round(avg(\"PPF_Norm\"), 2).alias(\"Avg_PPF\"),\n",
    "    round(avg(\"Gold_Norm\"), 2).alias(\"Avg_Gold\"),\n",
    "    round(avg(\"Total_Investment_Score\"), 2).alias(\"Avg_TotalScore\")\n",
    ")\n",
    "\n",
    "# Show aggregated results\n",
    "#agg_df.show(truncate=False)\n",
    "\n",
    "\n",
    "from pyspark.sql.window import Window\n",
    "\n",
    "from pyspark.sql.functions import rank, col\n",
    "\n",
    "wf = Window.partitionBy(\"GenderGroup\").orderBy(col(\"Total_Investment_Score\").desc())\n",
    "\n",
    "rank = df.withColumn(\"Rank\", rank().over(wf))\n",
    "\n",
    "rank_df = rank.orderBy(\"GenderGroup\")\n",
    "\n",
    "\n",
    "#rank_df = rank.orderBy(\"GenderGroup\").show(20, truncate=False)\n",
    "\n",
    "from pyspark.sql.window import Window\n",
    "from pyspark.sql.functions import rank, col\n",
    "\n",
    "# Define window spec\n",
    "windowSpec = Window.partitionBy(\"GenderGroup\").orderBy(col(\"Total_Investment_Score\").desc())\n",
    "\n",
    "# Add ranking column (do NOT overwrite with show())\n",
    "ranked_df = df.withColumn(\"Rank_in_AgeGroup\", rank().over(windowSpec))\n",
    "\n",
    "# Filter top 3 per Age_Group\n",
    "top3_df = ranked_df.filter(col(\"Rank_in_AgeGroup\") <= 3)\n",
    "\n",
    "# Show result\n",
    "#top3_df.orderBy(\"GenderGroup\", \"Rank_in_AgeGroup\").show(truncate=False)\n",
    "\n",
    "top3_df.orderBy(\"GenderGroup\", \"Rank_in_AgeGroup\").show(3, truncate=False)\n",
    "\n"
   ]
  }
 ],
 "metadata": {
  "application/vnd.databricks.v1+notebook": {
   "computePreferences": null,
   "dashboards": [],
   "environmentMetadata": {
    "base_environment": "",
    "environment_version": "3"
   },
   "inputWidgetPreferences": null,
   "language": "python",
   "notebookMetadata": {
    "pythonIndentUnit": 4
   },
   "notebookName": "stock_market_analysis",
   "widgets": {}
  },
  "language_info": {
   "name": "python"
  }
 },
 "nbformat": 4,
 "nbformat_minor": 0
}